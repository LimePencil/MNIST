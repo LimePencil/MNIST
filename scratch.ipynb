{
 "cells": [
  {
   "cell_type": "code",
   "execution_count": 48,
   "metadata": {},
   "outputs": [],
   "source": [
    "import matplotlib.pyplot as plt\n",
    "import torch\n",
    "import torch.nn as nn\n",
    "from torchvision import datasets\n",
    "from torch.utils.data import DataLoader\n",
    "import torch.optim as optim\n",
    "import torchvision\n",
    "import numpy as np\n",
    "from torchvision import transforms\n"
   ]
  },
  {
   "cell_type": "code",
   "execution_count": 49,
   "metadata": {},
   "outputs": [],
   "source": [
    "class n_net(nn.Module):\n",
    "    def __init__(self):\n",
    "        super(n_net,self).__init__()\n",
    "        self.n1 = nn.Linear(784,100)\n",
    "        self.relu = nn.ReLU()\n",
    "        self.n2 = nn.Linear(100,100)\n",
    "        self.n3 = nn.Linear(100,10)\n",
    "    def forward(self,x):\n",
    "        x1 = self.n1(x)\n",
    "        x2 = self.relu(x1)\n",
    "        x3 = self.n2(x2)\n",
    "        x4 = self.relu(x3)\n",
    "        x5 = self.n3(x4)\n",
    "        return x5"
   ]
  },
  {
   "cell_type": "code",
   "execution_count": 50,
   "metadata": {},
   "outputs": [],
   "source": [
    "DOWNLOAD_ROOT = 'MNIST_data/'\n",
    "\n",
    "dataset_1 = datasets.MNIST(root=DOWNLOAD_ROOT,train=True,transform=transforms.ToTensor(),download=True)\n",
    "dataset_2 = datasets.MNIST(root=DOWNLOAD_ROOT,train=False,transform=transforms.ToTensor(),download=True)\n"
   ]
  },
  {
   "cell_type": "code",
   "execution_count": 51,
   "metadata": {},
   "outputs": [],
   "source": [
    "BATCH_SIZE = 128\n",
    "dataset_1_loader = DataLoader(dataset_1, batch_size=BATCH_SIZE, shuffle=True,drop_last=True)\n",
    "dataset_2_loader = DataLoader(dataset_2, batch_size=BATCH_SIZE, shuffle=True,drop_last=True)"
   ]
  },
  {
   "cell_type": "code",
   "execution_count": 52,
   "metadata": {},
   "outputs": [],
   "source": [
    "LEARNING_RATE = 0.01\n",
    "torch.manual_seed(7777)\n",
    "model = n_net()\n",
    "model.zero_grad()\n",
    "loss_function = nn.CrossEntropyLoss()\n",
    "optimizer = optim.SGD(model.parameters(),lr=LEARNING_RATE)"
   ]
  },
  {
   "cell_type": "code",
   "execution_count": 53,
   "metadata": {},
   "outputs": [
    {
     "name": "stdout",
     "output_type": "stream",
     "text": [
      "epoch : 0 | loss : 2.178835\n",
      "Accuracy : 57.07\n",
      "---------------------\n",
      "epoch : 1 | loss : 1.333699\n",
      "Accuracy : 80.81\n",
      "---------------------\n",
      "epoch : 2 | loss : 0.680126\n",
      "Accuracy : 85.70\n",
      "---------------------\n",
      "epoch : 3 | loss : 0.496338\n",
      "Accuracy : 88.24\n",
      "---------------------\n",
      "epoch : 4 | loss : 0.420924\n",
      "Accuracy : 89.54\n",
      "---------------------\n",
      "epoch : 5 | loss : 0.380197\n",
      "Accuracy : 90.07\n",
      "---------------------\n",
      "epoch : 6 | loss : 0.353888\n",
      "Accuracy : 90.79\n",
      "---------------------\n",
      "epoch : 7 | loss : 0.334613\n",
      "Accuracy : 91.02\n",
      "---------------------\n",
      "epoch : 8 | loss : 0.319357\n",
      "Accuracy : 91.41\n",
      "---------------------\n",
      "epoch : 9 | loss : 0.306695\n",
      "Accuracy : 91.79\n",
      "---------------------\n"
     ]
    }
   ],
   "source": [
    "TOTAL_BATCH = len(dataset_1_loader)\n",
    "EPOCHS = np.arange(0,10)\n",
    "loss_list = []\n",
    "accuracy_list = []\n",
    "for epoch in EPOCHS:\n",
    "    cost = 0\n",
    "    for image, label in dataset_1_loader:\n",
    "        image = image.reshape(BATCH_SIZE,784)\n",
    "        optimizer.zero_grad()\n",
    "        predicted = model.forward(image)\n",
    "        loss = loss_function(predicted,label)\n",
    "        loss.backward()\n",
    "        optimizer.step()\n",
    "        cost+=loss\n",
    "    with torch.no_grad():\n",
    "        total = 0\n",
    "        correct = 0\n",
    "        for image, label in dataset_2_loader:\n",
    "            image = image.reshape(BATCH_SIZE,784)\n",
    "            out = model(image)\n",
    "            _,predict = torch.max(out.data, 1)\n",
    "            total += label.size(0)\n",
    "            correct += (predict==label).sum()\n",
    "    average_cost = cost/TOTAL_BATCH\n",
    "    accuracy = 100*correct/total\n",
    "    loss_list.append(average_cost.detach().numpy())\n",
    "    accuracy_list.append(accuracy)\n",
    "    print(\"epoch : {} | loss : {:.6f}\" .format(epoch, average_cost))\n",
    "    print(\"Accuracy : {:.2f}\".format(accuracy))\n",
    "    print(\"---------------------\")\n",
    "\n"
   ]
  },
  {
   "cell_type": "code",
   "execution_count": 54,
   "metadata": {},
   "outputs": [
    {
     "data": {
      "image/png": "[encoded data removed]",
      "text/plain": [
       "<Figure size 720x360 with 2 Axes>"
      ]
     },
     "metadata": {
      "needs_background": "light"
     },
     "output_type": "display_data"
    }
   ],
   "source": [
    "plt.figure(figsize=(10,5))\n",
    "plt.subplot(1,2,1)\n",
    "plt.xlabel('Epoch')\n",
    "plt.ylabel('Loss')\n",
    "plt.plot(EPOCHS,loss_list)\n",
    "plt.subplot(1,2,2)\n",
    "plt.xlabel('Epoch')\n",
    "plt.ylabel('Accuracy')\n",
    "plt.plot(EPOCHS, accuracy_list)\n",
    "plt.show()"
   ]
  }
 ],
 "metadata": {
  "interpreter": {
   "hash": "d8f5a8577b8cf413169496226e4485bf91d05ebdcdf9e1588db361085a732ed9"
  },
  "kernelspec": {
   "display_name": "Python 3.8.12 ('ml_env')",
   "language": "python",
   "name": "python3"
  },
  "language_info": {
   "codemirror_mode": {
    "name": "ipython",
    "version": 3
   },
   "file_extension": ".py",
   "mimetype": "text/x-python",
   "name": "python",
   "nbconvert_exporter": "python",
   "pygments_lexer": "ipython3",
   "version": "3.8.12"
  },
  "orig_nbformat": 4
 },
 "nbformat": 4,
 "nbformat_minor": 2
}
